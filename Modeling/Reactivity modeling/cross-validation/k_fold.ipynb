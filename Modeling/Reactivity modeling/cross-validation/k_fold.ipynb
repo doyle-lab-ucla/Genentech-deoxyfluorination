{
 "cells": [
  {
   "cell_type": "code",
   "execution_count": null,
   "id": "5edbc3a0",
   "metadata": {},
   "outputs": [
    {
     "name": "stdout",
     "output_type": "stream",
     "text": [
      "   ID  Yield_24h  dipole(Debye)_max  pyramidalization_Gavrish_S(°)_max  Fold\n",
      "0   0        1.5             6.1310                           5.098881     2\n",
      "1   6       23.1             3.8998                           5.047614     4\n",
      "2   8       76.0             6.5148                           4.937596     2\n",
      "3  11       62.9             2.5124                           4.999035     4\n",
      "4  28        4.5             6.1768                           5.090402     2\n"
     ]
    }
   ],
   "source": [
    "### Get the 5-fold stratified sets\n",
    "\n",
    "import pandas as pd\n",
    "from sklearn.model_selection import StratifiedKFold\n",
    "\n",
    "# Load your Excel file\n",
    "file_path = \"Sulfonyl_Fluoride_Yields.xlsx\"  # Replace with your file path\n",
    "df = pd.read_excel(file_path)\n",
    "\n",
    "# Create a binary stratification label based on the Yield_24h threshold\n",
    "df['Yield_Above_80'] = (df['Yield_24h'] > 80).astype(int)\n",
    "\n",
    "# Initialize the StratifiedKFold splitter\n",
    "skf = StratifiedKFold(n_splits=5, shuffle=True, random_state=42)\n",
    "\n",
    "# Prepare a column to hold the fold assignments\n",
    "df['Fold'] = -1\n",
    "\n",
    "# Assign each sample to a fold\n",
    "for fold_number, (_, test_idx) in enumerate(skf.split(df, df['Yield_Above_80'])):\n",
    "    df.loc[test_idx, 'Fold'] = fold_number\n",
    "\n",
    "# Remove the temporary stratification column\n",
    "df = df.drop(columns=['Yield_Above_80'])\n",
    "\n",
    "# Save the result to a new Excel file (optional)\n",
    "df.to_excel(\"Stratified_Folds_Yield.xlsx\", index=False)\n",
    "\n",
    "# Display the first few rows\n",
    "print(df.head())"
   ]
  },
  {
   "cell_type": "code",
   "execution_count": 7,
   "id": "975ff857",
   "metadata": {},
   "outputs": [
    {
     "name": "stdout",
     "output_type": "stream",
     "text": [
      "----- FOLD 0 -----\n",
      "TRAINING SET\n",
      "Correct = 45, Incorrect = 3, Accuracy = 0.94\n",
      "VALIDATION SET\n",
      "Correct = 11, Incorrect = 2, Accuracy = 0.85\n",
      "----- FOLD 1 -----\n",
      "TRAINING SET\n",
      "Correct = 45, Incorrect = 4, Accuracy = 0.92\n",
      "VALIDATION SET\n",
      "Correct = 11, Incorrect = 1, Accuracy = 0.92\n",
      "----- FOLD 2 -----\n",
      "TRAINING SET\n",
      "Correct = 44, Incorrect = 5, Accuracy = 0.90\n",
      "VALIDATION SET\n",
      "Correct = 12, Incorrect = 0, Accuracy = 1.00\n",
      "----- FOLD 3 -----\n",
      "TRAINING SET\n",
      "Correct = 45, Incorrect = 4, Accuracy = 0.92\n",
      "VALIDATION SET\n",
      "Correct = 11, Incorrect = 1, Accuracy = 0.92\n",
      "----- FOLD 4 -----\n",
      "TRAINING SET\n",
      "Correct = 45, Incorrect = 4, Accuracy = 0.92\n",
      "VALIDATION SET\n",
      "Correct = 11, Incorrect = 1, Accuracy = 0.92\n"
     ]
    }
   ],
   "source": [
    "### Evaluate the accuracy of each set\n",
    "\n",
    "df = pd.read_excel(\"Stratified_Folds_Yield.xlsx\")\n",
    "\n",
    "dipole_threshold = 5.87 # < than this\n",
    "pyram_threshold = 4.95 # < than this\n",
    "\n",
    "def evaluate_set(df):\n",
    "    correct = 0\n",
    "    incorrect = 0\n",
    "    for i, row in df.iterrows():\n",
    "        dipole_val = row['dipole(Debye)_max']\n",
    "        pyram_val = row['pyramidalization_Gavrish_S(°)_max']\n",
    "        is_in_quadrant = dipole_val < dipole_threshold and pyram_val < pyram_threshold\n",
    "        is_above_80 = row['Yield_24h'] > 80\n",
    "        if is_in_quadrant and is_above_80:\n",
    "            correct += 1\n",
    "        elif not is_in_quadrant and not is_above_80:\n",
    "            correct += 1\n",
    "        else:\n",
    "            incorrect += 1\n",
    "\n",
    "    print(f\"Correct = {correct}, Incorrect = {incorrect}, Accuracy = {correct / (correct + incorrect):.2f}\")\n",
    "\n",
    "\n",
    "# Group by the 'Fold' column\n",
    "for i in range(5):\n",
    "    training_set = df[df['Fold'] != i]\n",
    "    validation_set = df[df['Fold'] == i]\n",
    "    \n",
    "    print(\"----- FOLD\", i, \"-----\")\n",
    "    print(\"TRAINING SET\")\n",
    "    evaluate_set(training_set)\n",
    "    print(\"VALIDATION SET\")\n",
    "    evaluate_set(validation_set)\n",
    "\n"
   ]
  },
  {
   "cell_type": "code",
   "execution_count": null,
   "id": "4cee1bb2",
   "metadata": {},
   "outputs": [],
   "source": []
  }
 ],
 "metadata": {
  "kernelspec": {
   "display_name": "default",
   "language": "python",
   "name": "python3"
  },
  "language_info": {
   "codemirror_mode": {
    "name": "ipython",
    "version": 3
   },
   "file_extension": ".py",
   "mimetype": "text/x-python",
   "name": "python",
   "nbconvert_exporter": "python",
   "pygments_lexer": "ipython3",
   "version": "3.13.5"
  }
 },
 "nbformat": 4,
 "nbformat_minor": 5
}
